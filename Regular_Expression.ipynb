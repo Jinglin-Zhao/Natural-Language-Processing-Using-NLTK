{
 "cells": [
  {
   "cell_type": "markdown",
   "metadata": {},
   "source": [
    "# <center>Regular Expressions</center>\n",
    "\n",
    "References:\n",
    "- http://www.tutorialspoint.com/python/python_reg_expressions.htm\n",
    "- https://developers.google.com/edu/python/regular-expressions\n",
    "- https://www.datacamp.com/community/tutorials/python-regular-expression-tutorial"
   ]
  },
  {
   "cell_type": "markdown",
   "metadata": {},
   "source": [
    "## 1. What is a regular expression\n",
    "- A regular expression is a special sequence of characters that helps you match or find other strings or sets of strings, using a specialized syntax held in a **pattern**. \n",
    "   - Patterns with ordinary characters, e.g. '101'\n",
    "   - Patterns with wild card characters, such as <b><font color=\"red\">. + \\* ?</font></b>, e.g. '101\\*'\n",
    "- Regular expressions are widely used in UNIX world\n",
    "- <font color=\"green\">**re**</font> is the built-in python package for regular expressions"
   ]
  },
  {
   "cell_type": "markdown",
   "metadata": {},
   "source": [
    "## 2. Useful Regular Expression Patterns"
   ]
  },
  {
   "cell_type": "code",
   "execution_count": null,
   "metadata": {},
   "outputs": [],
   "source": [
    "from IPython.core.interactiveshell import InteractiveShell\n",
    "InteractiveShell.ast_node_interactivity = \"all\"\n",
    "\n",
    "import re"
   ]
  },
  {
   "cell_type": "code",
   "execution_count": 31,
   "metadata": {},
   "outputs": [
    {
     "name": "stdout",
     "output_type": "stream",
     "text": [
      "COM-101   COMPUTERS\n",
      "COM-111   DATABASE\n",
      "COM-311   ALGORITHM\n",
      "MAT-103   STATISTICS_AND_MACHINE_LEARNING\n",
      "MAT-101   STATISTICS\n"
     ]
    }
   ],
   "source": [
    "text = \"\"\"COM-101   COMPUTERS\n",
    "COM-111   DATABASE\n",
    "COM-311   ALGORITHM\n",
    "MAT-103   STATISTICS_AND_MACHINE_LEARNING\n",
    "MAT-101   STATISTICS\"\"\"\n",
    "print(text)"
   ]
  },
  {
   "cell_type": "code",
   "execution_count": 33,
   "metadata": {},
   "outputs": [
    {
     "data": {
      "text/plain": [
       "['COM', 'COM', 'COM', 'COM']"
      ]
     },
     "execution_count": 33,
     "metadata": {},
     "output_type": "execute_result"
    }
   ],
   "source": [
    "# Find all occurrences of a pattern \n",
    "# '101' is\n",
    "re.findall('COM',text)\n"
   ]
  },
  {
   "cell_type": "markdown",
   "metadata": {},
   "source": [
    "- Try the example patterns listed in the table to find matching strings, e.g. `re.findall('^COM', text)`\n",
    "- Write down your answer in the last column"
   ]
  },
  {
   "cell_type": "markdown",
   "metadata": {},
   "source": [
    "| Pattern     | Description                              | Example |Example Output |\n",
    "| :------------|:----------------------------------------|:-------|    |\n",
    "| `^`     | Matches beginning of a string | `^COM`         | |\n",
    "| `\\$`     | Matches end of a string        | `STATISTICS$` | | \n",
    "| `.`     | Matches any single character except newline. |`.` | |\n",
    "| `[...]` | Matches any single character in brackets. | `10[12]`|  |\n",
    "| `[^...]` | Matches any single character not in brackets | `10[^12]`|  |\n",
    "| `\\*`     | Matches 0 or more occurrences of preceding expression  |   `COM-1\\*`                 | |\n",
    "| `+`           | Matches 1 or more occurrence of preceding expression  | `COM-1+`    |  |\n",
    "| `?`           | Matches 0 or 1 occurrence of preceding expression    |  `COM-1?`  |                  |\n",
    "| `{n}`         | Matches exactly n number of occurrences of preceding expression    |  `1{2}`| |\n",
    "| `{n,}`        | Matches n or more occurrences of preceding expression.   |  `1{3,}`| | \n",
    "| `{n,m}`       | Matches at least n and at most m occurrences of preceding expression       | `1{2,3}`| |\n",
    "| `[0-9]`       | Match any digit; same as [0123456789] |`[0-9]+` | |\n",
    "| `[a-z]`       | Match any lowercase ASCII letter | `[a-z]+`     | |\n",
    "| `[A-Z]`       | Match any uppercase ASCII letter | `[A-Z]+`     | |\n",
    "| `[a-zA-Z0-9]` | Match any of number or alphabetic letter |`[a-zA-Z0-9]+`                                  | |\n",
    "| `[^0-9]`      |Match anything other than a digit |  `[^0-9]+` | |\n",
    "| `a`&#124;`b`    | Matches either a or b  | `101`&#124;`102`    |  |\n",
    "| `\\w`          | Matches word characters, i.e. ASCII characters [A-Za-z0-9\\_].   | `\\w+`                                    | |\n",
    "| `\\W`          | Matches nonword characters | `\\W\\w+`      |  |\n",
    "| `\\s`          | Matches whitespace. Equivalent to [ \\t\\n\\r\\f] |   `\\s\\w+`   |  |\n",
    "| `\\S`          | Matches nonwhitespace  |`\\S+`     |  |\n",
    "| `\\d`          | Matches digits. Equivalent to [0-9] | `\\d+`  |  |\n",
    "| `\\D`          | Matches nondigits | `\\D+` |  |\n",
    "| `( )`         | Group regular expressions and remember matched text|  `(\\w+)-(\\w+)` |  |\n",
    "\n"
   ]
  },
  {
   "cell_type": "markdown",
   "metadata": {},
   "source": [
    "<div class=\"alert alert-block alert-info\">To match with characters such as |, \\, etc., which have special meaning in regular expression, use escape character \"\\\". <br>\n",
    "However regular expression escape may collide with python escape\n",
    "</div>"
   ]
  },
  {
   "cell_type": "code",
   "execution_count": null,
   "metadata": {},
   "outputs": [],
   "source": [
    "x = \"I'd like to match '\\\\' literally\"\n",
    "print(x)\n",
    "\n",
    "re.findall('\\\\',x)   # This will give an error; try '\\\\\\\\' to see what happens"
   ]
  },
  {
   "cell_type": "markdown",
   "metadata": {},
   "source": [
    "**Raw string notation (r prefix)**\n",
    "\n",
    "Prefixing with an `'r'` indicates the string in the pattern be treated literally without any special meaning.\n",
    "\n",
    "For example, without the r-prefix, `\\\\` means `\\` (the first `\\` is to backslash the second one) in python. However, `\\` in regular expression means `excape`. In the example of `re.findall('\\\\',x)`, an error was raised because `\\` in regular expression is waiting for another character to be escaped. In fact, to find `\\` literally, you need to write the pattern as `\\\\\\\\`\n",
    "\n",
    "With prefix `r`, `r'\\\\'` stands for two backslashes, i.e. they are treated literarally instead of signifying escaping."
   ]
  },
  {
   "cell_type": "code",
   "execution_count": 21,
   "metadata": {},
   "outputs": [
    {
     "name": "stdout",
     "output_type": "stream",
     "text": [
      "I'd like to match '\\' literally\n"
     ]
    },
    {
     "data": {
      "text/plain": [
       "['\\\\']"
      ]
     },
     "execution_count": 21,
     "metadata": {},
     "output_type": "execute_result"
    },
    {
     "name": "stdout",
     "output_type": "stream",
     "text": [
      "this is \n",
      " a test\n",
      "\n",
      "this is \\n a test\\n\n"
     ]
    }
   ],
   "source": [
    "x = \"I'd like to match '\\\\' literally\"\n",
    "print(x)\n",
    "\n",
    "re.findall(r'\\\\',x)\n",
    "\n",
    "# In fact, r prefix can be used in front of a string\n",
    "print('this is \\n a test\\n')\n",
    "print(r'this is \\n a test\\n')"
   ]
  },
  {
   "cell_type": "markdown",
   "metadata": {},
   "source": [
    "## 3. Regular Expression Functions\n",
    "- <font color=\"green\">**match(pattern, string, flags=0)**</font>: match `pattern` to `string` from the <b>beginning</b>. The `re.match` function returns a match object on success, None on failure. We use `group()` function of match object to get matched expression.\n",
    "- <font color=\"green\">**search(pattern, string, flags=0)**</font>: match `pattern` to `string`, similar to <font color=\"green\">**match**</font>. The difference between <font color=\"green\">**match**</font> and <font color=\"green\">**search**</font> is: <font color=\"green\">**match**</font> checks for a match only at the **beginning** of the string, while <font color=\"green\">**search**</font> checks for a match **anywhere** in the string\n",
    "- <font color=\"green\">**findall(pattern, string, flags=0)**</font>: find **all occurrences** of the `pattern` in `string` and save the result into a list. Note that **match** and **search** functions only find the **first match**.\n",
    "- <font color=\"green\">**sub(pattern, repl, string, max=0)**</font>: replaces all occurrences of the `pattern` in `string` with `repl`, substituting all occurrences unless `max` provided. This method returns modified string.\n",
    "- <font color=\"green\">**split(pattern, string,  maxsplit=0, flags=0)**</font>: Split `string` by the occurrences of `pattern`. If `maxsplit` is nonzero, at most maxsplit splits occur, and the remainder of the string is returned as the final element of the list."
   ]
  },
  {
   "cell_type": "code",
   "execution_count": 24,
   "metadata": {},
   "outputs": [
    {
     "name": "stdout",
     "output_type": "stream",
     "text": [
      "not found!\n"
     ]
    }
   ],
   "source": [
    "# Exercise 3.1. match function\n",
    "\n",
    "text=\"The cat catches a rat\"\n",
    "\n",
    "# match is to find the pattern in the \n",
    "# string from ***the beginning***\n",
    "# if found, a match object is returned\n",
    "# otherwise, None\n",
    "\n",
    "match= re.match(r'cat', text)\n",
    "if match:\n",
    "    print (\"find cat!\")\n",
    "    \n",
    "    # .group returns matched string \n",
    "    # from the match object\n",
    "    \n",
    "    print(match.group())\n",
    "else:\n",
    "    print (\"not found!\")\n",
    "    \n",
    "# How to modify the pattern so that \n",
    "# 'cat' strings can be found ?"
   ]
  },
  {
   "cell_type": "code",
   "execution_count": 25,
   "metadata": {},
   "outputs": [
    {
     "name": "stdout",
     "output_type": "stream",
     "text": [
      "find cat!\n",
      "cat\n"
     ]
    }
   ],
   "source": [
    "# Exercise 3.2. search function\n",
    "\n",
    "# search is to find the pattern in the string \n",
    "# from ***any position***\n",
    "# group() is the function to return matched string\n",
    "\n",
    "text=\"The cat catches a rat\"\n",
    "\n",
    "match= re.search(r'cat',text)\n",
    "if match:\n",
    "    print (\"find cat!\")\n",
    "    print (match.group())\n",
    "else:\n",
    "    print (\"not found!\")"
   ]
  },
  {
   "cell_type": "code",
   "execution_count": 26,
   "metadata": {},
   "outputs": [
    {
     "name": "stdout",
     "output_type": "stream",
     "text": [
      "['cat', 'cat']\n"
     ]
    }
   ],
   "source": [
    "# Exercise 3.3. findall function\n",
    "\n",
    "# find all \"cat\" substrings in text\n",
    "\n",
    "text=\"The cat catches a rat\"\n",
    "\n",
    "match= re.findall(r'cat', text)\n",
    "print (match)"
   ]
  },
  {
   "cell_type": "code",
   "execution_count": 27,
   "metadata": {},
   "outputs": [
    {
     "name": "stdout",
     "output_type": "stream",
     "text": [
      "The CAT CATches a rat\n"
     ]
    }
   ],
   "source": [
    "# Exercise 3.4. sub function\n",
    "\n",
    "# replace all \"cat\" substrings in text with 'CAT'\n",
    "\n",
    "text=\"The cat catches a rat\"\n",
    "\n",
    "match= re.sub(r'cat','CAT', text)\n",
    "print (match)"
   ]
  },
  {
   "cell_type": "code",
   "execution_count": 28,
   "metadata": {},
   "outputs": [
    {
     "name": "stdout",
     "output_type": "stream",
     "text": [
      "['The', 'cat', 'catches', 'a', 'rat', '']\n"
     ]
    }
   ],
   "source": [
    "# Exercise 3.5. split the sentence into words\n",
    "\n",
    "text=\"The cat catches a rat!!!!!!!\"\n",
    "\n",
    "words= re.split(r'\\W+', text) # \\W+ matches a sequence of non-words\n",
    "print (words)\n",
    "\n",
    "# any other way to tokenize?"
   ]
  },
  {
   "cell_type": "code",
   "execution_count": 29,
   "metadata": {},
   "outputs": [
    {
     "name": "stdout",
     "output_type": "stream",
     "text": [
      "['T', 't', 't', 't']\n"
     ]
    }
   ],
   "source": [
    "# Exercise 3.6. case insensitive search\n",
    "\n",
    "# flag re.I means case insensitive. \n",
    "# It can be applied to search, match, findall, and sub\n",
    "\n",
    "# find all \"t\" or \"T\"     \n",
    "\n",
    "text=\"The cat catches a rat\"\n",
    "\n",
    "match= re.findall(r't', text, re.I)                      \n",
    "print (match)"
   ]
  },
  {
   "cell_type": "code",
   "execution_count": 34,
   "metadata": {},
   "outputs": [
    {
     "name": "stdout",
     "output_type": "stream",
     "text": [
      "Isaac Newton\n",
      "Isaac Newton\n",
      "first word: Isaac\n",
      "second word: Newton\n",
      "first & second groups: ('Isaac', 'Newton')\n"
     ]
    }
   ],
   "source": [
    "# Exercise 3.7. Match with capturing groups (i.e. \"()\")\n",
    "\n",
    "m = re.match(r\"(\\w+) (\\w+)\", \"Isaac Newton, physicist\")\n",
    "\n",
    "# group() or group(0) always returns the whole text that was matched \n",
    "# no matter if it was captured in a group or not\n",
    "print(m.group())\n",
    "print(m.group(0))\n",
    "\n",
    "# refer to each group by index starting from 1\n",
    "print(\"first word:\", m.group(1))\n",
    "print(\"second word:\", m.group(2))\n",
    "print(\"first & second groups:\", m.group(1,2))"
   ]
  },
  {
   "cell_type": "markdown",
   "metadata": {},
   "source": [
    "## 4. Expression pattern examples"
   ]
  },
  {
   "cell_type": "code",
   "execution_count": 35,
   "metadata": {},
   "outputs": [
    {
     "name": "stdout",
     "output_type": "stream",
     "text": [
      "first second third\n"
     ]
    }
   ],
   "source": [
    "# Exercise 4.1. Replace multiple spaces or \n",
    "# line breaks with a single space\n",
    "\n",
    "text='''first            second\n",
    "        third'''\n",
    "\n",
    "# \\s matches with whitespaces, includeing line breaks, \n",
    "# tabs, spaces etc. + means one or more\n",
    "print (re.sub(r\"\\s+\", ' ',text)  ) "
   ]
  },
  {
   "cell_type": "code",
   "execution_count": 39,
   "metadata": {},
   "outputs": [
    {
     "name": "stdout",
     "output_type": "stream",
     "text": [
      "['201-959-5599', '201-966-5599']\n"
     ]
    }
   ],
   "source": [
    "# Exercise 4.2. find phone number\n",
    "text = \"201-959-5599 # This is Phone Number 201-966-5599\"\n",
    "\n",
    "# \\d matches with any number, \n",
    "# {n} means n number of preceding characters are needed\n",
    "# \"-\" only has special meaning of range if placed within []\n",
    "phones = re.findall(r'\\d{3}-\\d{3}-\\d{4}', text)\n",
    "print (phones)\n",
    "\n",
    "# How about phone numbers like 201.959.5599?\n",
    "# how to get all the numbers, no hyphen or dot?"
   ]
  },
  {
   "cell_type": "code",
   "execution_count": 41,
   "metadata": {},
   "outputs": [
    {
     "name": "stdout",
     "output_type": "stream",
     "text": [
      "['joe.doe@example1.com', 'abc-xyz@example2.edu']\n"
     ]
    }
   ],
   "source": [
    "# Exercise 4.3. find email address\n",
    "text = \"email me at joe.doe@example1.com or at abc-xyz@example2.edu\"\n",
    "\n",
    "emails = re.findall(r'[a-zA-Z0-9._-]+@[a-zA-Z0-9._-]+', \\\n",
    "                    text)\n",
    "print (emails)\n",
    "\n",
    "# [a-zA-Z0-9._-] means any alphabetic character, \n",
    "# number, .(dot), _, and - is allowed\n",
    "# note that special characters lose their special meaning inside []\n",
    "# although .(dot) have special meaning, \n",
    "# within [], it's treated literally \n",
    "# -(hyphen) placed at the end of list inside [] is treated literally"
   ]
  },
  {
   "cell_type": "code",
   "execution_count": null,
   "metadata": {},
   "outputs": [],
   "source": [
    "# Exercise 4.4. Extract course name and title as \n",
    "# [('COM-101', 'COMPUTERS'),\n",
    "#  ('COM-111', 'DATABASE'),\n",
    "#  ... ]\n",
    "\n",
    "text = '''COM-101   COMPUTERS\n",
    "COM-111   DATABASE\n",
    "COM-211   ALGORITHM\n",
    "MAT-103   STATISTICS learning\n",
    "MAT-102   STATISTICS'''"
   ]
  }
 ],
 "metadata": {
  "kernelspec": {
   "display_name": "Python 3",
   "language": "python",
   "name": "python3"
  },
  "language_info": {
   "codemirror_mode": {
    "name": "ipython",
    "version": 3
   },
   "file_extension": ".py",
   "mimetype": "text/x-python",
   "name": "python",
   "nbconvert_exporter": "python",
   "pygments_lexer": "ipython3",
   "version": "3.6.9"
  }
 },
 "nbformat": 4,
 "nbformat_minor": 2
}
